{
 "cells": [
  {
   "cell_type": "code",
   "execution_count": 13,
   "metadata": {},
   "outputs": [
    {
     "name": "stdout",
     "output_type": "stream",
     "text": [
      "*=======================*\n",
      "                         \n",
      "|      CALCULADORA      |\n",
      "|    1 - Somar          |\n",
      "|    2 - Subtrair       |\n",
      "|    3 - Multiplicar    |\n",
      "|    4 - Dividir        |\n",
      "|    5 - Exponenciação  |\n",
      "|    0 - Sair           |\n",
      "                         \n",
      "*=======================*\n",
      "A soma entre 15.0 e 50.0 é =  65.0\n",
      "A multipliação entre 5.0 e 3.0 é =  15.0\n",
      "A exponenciação entre 2.0 e 2.0 é =  4.0\n"
     ]
    }
   ],
   "source": [
    "def soma(n1, n2):\n",
    "    return n1 + n2\n",
    "\n",
    "def subtrai(n1, n2):\n",
    "    return n1 - n2\n",
    "\n",
    "def multiplica(n1, n2):\n",
    "    return n1 * n2\n",
    "\n",
    "def divide(n1, n2):\n",
    "    if n2 == 0:\n",
    "        return (\"Invalido, Divisão igual a 0\")\n",
    "    return n1 / n2\n",
    "\n",
    "def exponencia(n1,n2):\n",
    "    return n1**n2\n",
    "\n",
    "def calculadora():\n",
    "    print(\"*=======================*\")\n",
    "    print(\"                         \")\n",
    "    print(\"|      CALCULADORA      |\")\n",
    "    print(\"|    1 - Somar          |\")\n",
    "    print(\"|    2 - Subtrair       |\")\n",
    "    print(\"|    3 - Multiplicar    |\")\n",
    "    print(\"|    4 - Dividir        |\")\n",
    "    print(\"|    5 - Exponenciação  |\")\n",
    "    print(\"|    0 - Sair           |\")\n",
    "    print(\"                         \")\n",
    "    print(\"*=======================*\")\n",
    "\n",
    "    while True:\n",
    "        op = input(\"Insira o número que corresponde a operação desejada\" \"\\n\" \"(1)(2)(3)(4)(5)\")\n",
    "\n",
    "        if op in (\"1\", \"2\", \"3\", \"4\", \"5\"):    \n",
    "            try:\n",
    "                n1 = float(input(\"Primeiro Número: \"))\n",
    "                n2 = float(input(\"Segundo Número: \"))\n",
    "            except ValueError:\n",
    "                    print(\"Valor invalido, por favor tente novamente\")\n",
    "                    continue\n",
    "\n",
    "            if op == \"1\":\n",
    "                    print(f\"A soma entre {n1} e {n2} é = \", soma(n1,n2))\n",
    "            elif op == \"2\":\n",
    "                    print(f\"A subtração entre {n1} e {n2} é = \", subtrai(n1,n2))\n",
    "            elif op == \"3\":\n",
    "                    print(f\"A multiplicação entre {n1} e {n2} é = \", multiplica(n1,n2))\n",
    "            elif op == \"4\":\n",
    "                    print(f\"A divisão entre {n1} e {n2} é =\", divide(n1, n2))\n",
    "            elif op == \"5\":\n",
    "                    print(f\"A exponenciação entre {n1} e {n2} é = \", exponencia(n1, n2))\n",
    "        else:\n",
    "            print(\"Escolha incorreta, selecione uma das opções validas\")\n",
    "\n",
    "        nova_operacao = input(\"Deseja realizar uma nova operação? (sim / não): \")\n",
    "        if nova_operacao != \"sim\":\n",
    "            break\n",
    "calculadora()\n",
    "\n"
   ]
  },
  {
   "cell_type": "code",
   "execution_count": null,
   "metadata": {},
   "outputs": [],
   "source": []
  }
 ],
 "metadata": {
  "kernelspec": {
   "display_name": "Python 3",
   "language": "python",
   "name": "python3"
  },
  "language_info": {
   "codemirror_mode": {
    "name": "ipython",
    "version": 3
   },
   "file_extension": ".py",
   "mimetype": "text/x-python",
   "name": "python",
   "nbconvert_exporter": "python",
   "pygments_lexer": "ipython3",
   "version": "3.12.3"
  }
 },
 "nbformat": 4,
 "nbformat_minor": 2
}
